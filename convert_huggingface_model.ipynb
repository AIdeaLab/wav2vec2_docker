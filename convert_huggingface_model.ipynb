{
  "nbformat": 4,
  "nbformat_minor": 0,
  "metadata": {
    "colab": {
      "name": "convert_huggingface_model.ipynb",
      "provenance": []
    },
    "kernelspec": {
      "name": "python3",
      "display_name": "Python 3"
    },
    "language_info": {
      "name": "python"
    }
  },
  "cells": [
    {
      "cell_type": "markdown",
      "metadata": {
        "id": "9l-rBcXA3R9O"
      },
      "source": [
        "# Install"
      ]
    },
    {
      "cell_type": "code",
      "metadata": {
        "id": "sI2fUbic3Krb"
      },
      "source": [
        "!pip install datasets -U"
      ],
      "execution_count": null,
      "outputs": []
    },
    {
      "cell_type": "code",
      "metadata": {
        "id": "qWQiSbNI3P8z"
      },
      "source": [
        "!git clone https://github.com/huggingface/transformers.git\n",
        "!cp transformers/src/transformers/models/wav2vec2/convert_wav2vec2_original_pytorch_checkpoint_to_pytorch.py ."
      ],
      "execution_count": null,
      "outputs": []
    },
    {
      "cell_type": "markdown",
      "metadata": {
        "id": "A18Qszbb3pRn"
      },
      "source": [
        "# Get checkpoint"
      ]
    },
    {
      "cell_type": "code",
      "metadata": {
        "id": "6M0fZroe3ZLE"
      },
      "source": [
        "!mkdir finetuning\n",
        "!wget https://dl.fbaipublicfiles.com/fairseq/wav2vec/wav2vec_small_960h.pt -O ./finetuning/wav2vec_small_960h.pt"
      ],
      "execution_count": null,
      "outputs": []
    },
    {
      "cell_type": "markdown",
      "metadata": {
        "id": "B8LEwGi33s2h"
      },
      "source": [
        "# Make dict"
      ]
    },
    {
      "cell_type": "code",
      "metadata": {
        "id": "x89OC2Wa3r_z"
      },
      "source": [
        "!mkdir dict_en\n",
        "!wget https://dl.fbaipublicfiles.com/fairseq/wav2vec/dict.ltr.txt -O ./dict_en/dict.ltr.txt"
      ],
      "execution_count": null,
      "outputs": []
    },
    {
      "cell_type": "markdown",
      "metadata": {
        "id": "FYYMbBFI4Rgx"
      },
      "source": [
        "# Convert"
      ]
    },
    {
      "cell_type": "code",
      "metadata": {
        "id": "g9LFQfzh4VUL"
      },
      "source": [
        "from fairseq import checkpoint_utils\n",
        "import torch"
      ],
      "execution_count": null,
      "outputs": []
    },
    {
      "cell_type": "code",
      "metadata": {
        "id": "BET_JSVD5WOY"
      },
      "source": [
        "!mkdir output"
      ],
      "execution_count": null,
      "outputs": []
    },
    {
      "cell_type": "code",
      "metadata": {
        "id": "bFdlzPv_4ZYK"
      },
      "source": [
        "!python convert_wav2vec2_original_pytorch_checkpoint_to_pytorch.py --pytorch_dump_folder_path ./output --checkpoint_path ./finetuning/wav2vec_small_960h.pt --dict_path ./dict_en"
      ],
      "execution_count": null,
      "outputs": []
    }
  ]
}